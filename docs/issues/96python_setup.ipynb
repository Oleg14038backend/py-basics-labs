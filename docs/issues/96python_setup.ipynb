{
 "cells": [
  {
   "cell_type": "markdown",
   "id": "5464baf6",
   "metadata": {},
   "source": [
    "# 🐍 Issue #96 — Установка и базовая настройка Python 3.11 (конспект)\n",
    "\n",
    "## Цель\n",
    "Подготовить рабочую машину к разработке на Python:\n",
    "- установить Python 3.11 и убедиться, что он доступен в терминале;\n",
    "- настроить удобные алиасы `python` / `pip` (если требуется);\n",
    "- создать рабочую директорию и базовое виртуальное окружение;\n",
    "- проверить, что всё реально работает.\n",
    "\n"
   ]
  },
  {
   "cell_type": "markdown",
   "id": "09064feb",
   "metadata": {},
   "source": [
    "    python --version — выводит версию исполняемого файла python, который найдён первым в PATH.\n",
    "\n",
    "    python3 --version — то же, но для бинаря с именем python3 (на Linux/macOS часто именно он основной).\n",
    "\n",
    "    pip --version — версия pip и к какому Python он привязан (смотри путь в конце строки).\n",
    "\n",
    "    python -m pip --version — запускает pip модулем внутри текущего python. Это самый надёжный способ работать с pip и не перепутать интерпретаторы"
   ]
  },
  {
   "cell_type": "markdown",
   "id": "2418b911",
   "metadata": {},
   "source": [
    "Полезно: узнать путь к текущему интерпретатору:\n",
    "    \n",
    "    python -c \"import sys; print(sys.executable)\"\n",
    "или:\n",
    "\n",
    "    Linux/macOS: which python, which python3\n",
    "\n",
    "    Windows (PowerShell/CMD): where python, py -0p"
   ]
  },
  {
   "cell_type": "markdown",
   "id": "5feb071c",
   "metadata": {},
   "source": [
    "1) Установка Python 3.11\n",
    "\n",
    "Выбираем один из способов.\n",
    "\n",
    "Вариант A — Официальный установщик (Windows/macOS)\n",
    "\n",
    "Скачай инсталлятор с python.org и установи с галочкой “Add Python to PATH”.\n",
    "\n",
    "После установки — перезапусти терминал.\n",
    "\n",
    "\n",
    "Проверка:\n",
    "            python --version\n",
    "            pip --version\n"
   ]
  },
  {
   "cell_type": "markdown",
   "id": "0ba27883",
   "metadata": {},
   "source": [
    "Вариант B — Пакетный менеджер (Linux/macOS)\n",
    "\n",
    "Ubuntu/Debian:\n",
    "\n",
    "            sudo apt update   # обновить индекс пакетов\n",
    "            sudo apt install -y python3.11 python3.11-venv python3.11-dev\n",
    "\n",
    "python3.11-venv — модуль venv; python3.11-dev — заголовки для сборки расширений\n"
   ]
  },
  {
   "cell_type": "markdown",
   "id": "0947bbc5",
   "metadata": {},
   "source": [
    "Fedora: \n",
    "        \n",
    "        sudo dnf install -y python3.11\n",
    "\n",
    "macOS (Homebrew): \n",
    "                 \n",
    "        brew install python@3.11 #\n",
    "                 \n",
    "        brew info python@3.11  # покажет, какой путь/ссылки добавить, если нужно\n"
   ]
  },
  {
   "cell_type": "markdown",
   "id": "4820d97c",
   "metadata": {},
   "source": [
    "Вариант C — pyenv (гибко: много версий рядом, Linux/macOS)\n",
    "\n",
    "Установка pyenv: \n",
    "    # Установщик pyenv\n",
    "\n",
    "    curl https://pyenv.run | bash\n",
    "\n",
    "    # Подключаем pyenv в текущую оболочку (bash; для zsh — ~/.zshrc)\n",
    "        \n",
    "        echo 'export PATH=\"$HOME/.pyenv/bin:$PATH\"' >> ~/.bashrc\n",
    "        \n",
    "        echo 'eval \"$(pyenv init -)\"'               >> ~/.bashrc\n",
    "        \n",
    "        echo 'eval \"$(pyenv virtualenv-init -)\"'    >> ~/.bashrc \n",
    "        \n",
    "        source ~/.bashrc\n",
    "\n",
    "\n",
    "Устанавливаем 3.11 и делаем её глобальной по умолчанию:\n",
    "\n",
    "    pyenv install 3.11.9  # ставит Python 3.11.9 в ~/.pyenv/versions/3.11.9\n",
    "\n",
    "    pyenv global 3.11.9   # делает её дефолтной в текущем пользователе\n",
    "    \n",
    "    python --version      # теперь должен быть 3.11.9\n"
   ]
  },
  {
   "cell_type": "markdown",
   "id": "530b35e9",
   "metadata": {},
   "source": [
    "Что это делает\n",
    "\n",
    "    curl … | bash — загружает инсталлятор pyenv и выполняет его.\n",
    "\n",
    "    export PATH=… — добавляет папку с бинарями pyenv в начало PATH.\n",
    "\n",
    "    eval \"$(pyenv init -)\" — инициализация shim-обёрток pyenv (подмена python на нужную версию).\n",
    "\n",
    "    pyenv install — скачивает/собирает указанную версию Python.\n",
    "\n",
    "    pyenv global — задаёт версию по умолчанию (можно ещё pyenv local для конкретной папки проекта).\n",
    "\n",
    "    Если во время pyenv install ругается на зависимости — установи системные dev-пакеты (build-essential, openssl, zlib, bzip2 и т.д.) согласно подсказкам в ошибке."
   ]
  },
  {
   "cell_type": "markdown",
   "id": "aa1c5a6e",
   "metadata": {},
   "source": [
    "2) Зачем нужны алиасы python и pip\n",
    "\n",
    "На Linux/macOS часто пара команд выглядит так: python3 и pip3.\n",
    "Чтобы не путаться и не писать лишнюю цифру, можно завести алиасы — короткие псевдонимы:\n",
    "\n",
    "Bash/Zsh (Linux/macOS)\n",
    "\n",
    "# Временные (только в текущей сессии):\n",
    "    alias python=python3\n",
    "    alias pip=\"python -m pip\"   # рекомендуемый способ, чтобы pip всегда привязывался к текущему python\n",
    "\n",
    "# Постоянные: добавляем в профиль оболочки\n",
    "    echo 'alias python=python3'        >> ~/.bashrc\n",
    "    echo 'alias pip=\"python -m pip\"'   >> ~/.bashrc\n",
    "    source ~/.bashrc\n",
    "\n",
    "Что это делает\n",
    "\n",
    "    alias python=python3 — при вводе python на самом деле запускается python3.\n",
    "\n",
    "    alias pip=\"python -m pip\" — всегда использует pip из текущего интерпретатора, исключая “перекрёстную” установку пакетов.\n"
   ]
  },
  {
   "cell_type": "markdown",
   "id": "8e825ac2",
   "metadata": {},
   "source": [
    "PowerShell (Windows)\n",
    "\n",
    "    # Временные на текущую сессию:\n",
    "    Set-Alias python python\n",
    "    Set-Alias pip    pip\n",
    "\n",
    "    # Постоянно: добавь строки в профиль\n",
    "    notepad $PROFILE\n",
    "    # вставь:\n",
    "    # Set-Alias python python\n",
    "    # Set-Alias pip    \"python -m pip\"\n",
    "    # сохрани файл и перезапусти PowerShell\n",
    "\n",
    "В PowerShell Set-Alias — это про алиасы в самой оболочке, не системные переменные.\n",
    "Важно: На Windows есть удобный лаунчер py:\n",
    "\n",
    "py -3.11 запустит именно Python 3.11\n",
    "\n",
    "py -m pip install ... — верный способ ставить пакеты для выбранной версии.\n"
   ]
  },
  {
   "cell_type": "markdown",
   "id": "a319359d",
   "metadata": {},
   "source": [
    "3) Создаём рабочую директорию\n",
    "\n",
    "    mkdir -p env_basics\n",
    "    \n",
    "    cd env_basics\n",
    "\n",
    "Что это делает\n",
    "\n",
    "    mkdir -p env_basics — создаёт папку (с флагом -p не будет ошибки, если папка уже есть).\n",
    "\n",
    "    cd env_basics — переходим внутрь.\n",
    "\n",
    "\n",
    "Активация: \n",
    "\n",
    "\n",
    "Windows PowerShell\n",
    "    \n",
    "    .\\.venv\\Scripts\\Activate.ps1\n",
    "\n",
    "Windows CMD\n",
    "    \n",
    "    .\\.venv\\Scripts\\activate.bat\n",
    "\n",
    "Git Bash (Windows) / Linux / macOS\n",
    "    \n",
    "    source .venv/bin/activate\n",
    "\n",
    "Деактивация: \n",
    "\n",
    "    deactivate\n",
    "\n",
    "Что это делает\n",
    "\n",
    "    python -m venv .venv — создаёт изолированную “песочницу” с копией интерпретатора и собственным site-packages.\n",
    "\n",
    "    При активации: в PATH подставляется .venv/..., приглашение в терминале меняется на (venv) или (.venv).\n",
    "\n",
    "    Все pip install ... теперь ставятся внутрь .venv, не пачкая систему.\n",
    "\n",
    "    deactivate — возвращает оболочку к обычному состоянию."
   ]
  },
  {
   "cell_type": "markdown",
   "id": "ddddb612",
   "metadata": {},
   "source": [
    "Типичные проблемы (Windows/PowerShell)\n",
    "\n",
    "Сообщение про политику выполнения:\n",
    "\n",
    "    Set-ExecutionPolicy -Scope Process -ExecutionPolicy Bypass\n",
    "    .\\.venv\\Scripts\\Activate.ps1\n",
    "\n",
    "Это ослабляет политику только в текущем процессе.\n",
    "\n",
    "Сразу обновим pip/инструменты сборку \n",
    "\n",
    "    python -m pip install --upgrade pip setuptools wheel\n",
    "\n",
    "Добавь в .gitignore\n",
    "\n",
    "    .gitignore\n",
    "    .venv/\n",
    "    __pycache__/\n",
    "    *.pyc\n",
    "\n"
   ]
  },
  {
   "cell_type": "markdown",
   "id": "d65a4056",
   "metadata": {},
   "source": []
  }
 ],
 "metadata": {
  "language_info": {
   "name": "python"
  }
 },
 "nbformat": 4,
 "nbformat_minor": 5
}
