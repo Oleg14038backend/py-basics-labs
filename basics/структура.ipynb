{
 "cells": [
  {
   "cell_type": "markdown",
   "id": "aaa2b2a7",
   "metadata": {},
   "source": [
    "backend-Python/\n",
    "\n",
    "    ├── basics/                 # учебные модули (переменные, функции, классы и т.д.)\n",
    "    ├── docs/\n",
    "    │   └── issues/             # конспекты по каждому issue (#96, #6 и т.п.)\n",
    "    ├── env_basics/             # окружения, venv\n",
    "    ├── tests/                  # 💡 твоя тестовая папка\n",
    "    │   ├── test_env.py         # проверка окружения Python\n",
    "    │   ├── test_functions.py   # тесты для issue #6 (Functions)\n",
    "    │   └── playground.py       # любые пробные скрипты\n",
    "    └── requirements.txt\n"
   ]
  }
 ],
 "metadata": {
  "kernelspec": {
   "display_name": ".venv",
   "language": "python",
   "name": "python3"
  },
  "language_info": {
   "name": "python",
   "version": "3.12.8"
  }
 },
 "nbformat": 4,
 "nbformat_minor": 5
}
